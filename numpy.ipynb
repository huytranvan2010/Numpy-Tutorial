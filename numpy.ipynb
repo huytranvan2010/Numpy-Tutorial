{
 "cells": [
  {
   "cell_type": "code",
   "execution_count": 1,
   "source": [
    "import numpy as np"
   ],
   "outputs": [],
   "metadata": {}
  },
  {
   "cell_type": "code",
   "execution_count": 2,
   "source": [
    "# Broadcasting\n",
    "a = np.ones((3, 5))     # a.shape = (3, 5)\n",
    "b = np.ones((5,))       # b.shape = (5,)\n",
    "\n",
    "# thêm 1 vào shape nhỏ hơn, thêm vào shape của b (1, 5), do 5 ở axis cuối, nêm thêm 1 vào axis trước đó\n",
    "b.reshape(1, 5)     # (1,5) - shaped array\n",
    "# hoặc có thể dùng b[np.newaxis, :]\n",
    "\"\"\" (3, 5), (5,) ở đây tính theo axis=-1 cho dễ. a có thêm axis phía trước nên mình\n",
    "thêm axis phía trước cho thằng b\"\"\""
   ],
   "outputs": [
    {
     "output_type": "execute_result",
     "data": {
      "text/plain": [
       "' (3, 5), (5,) ở đây tính theo axis=-1 cho dễ. a có thêm axis phía trước nên mình\\nthêm axis phía trước cho thằng b'"
      ]
     },
     "metadata": {},
     "execution_count": 2
    }
   ],
   "metadata": {}
  },
  {
   "cell_type": "code",
   "execution_count": 4,
   "source": [
    "c = a + b   # c.shape = (3, 5)\n",
    "c\n",
    "\n",
    "\"\"\"\n",
    "    a có shape (3. 5)\n",
    "    b có shape (1, 5)\n",
    "    Dimension 1 của b có thể lặp lại nhiều lần để khớp mà không cần copy data\n",
    "\"\"\""
   ],
   "outputs": [
    {
     "output_type": "execute_result",
     "data": {
      "text/plain": [
       "'\\n    a có shape (3. 5)\\n    b có shape (1, 5)\\n    Dimension 1 của b có thể lặp lại nhiều lần để khớp mà không cần copy data\\n'"
      ]
     },
     "metadata": {},
     "execution_count": 4
    }
   ],
   "metadata": {}
  },
  {
   "cell_type": "code",
   "execution_count": 5,
   "source": [
    "# Cách bên dưới tương dương nhưng có copy data (thêm vùng nhớ mới)\n",
    "b = np.ones((5,))\n",
    "tmp_b = b.reshape(1, 5)\n",
    "tmp_b_repeadt = tmp_b.repeat(3, axis=0)     # lặp theo axis=0, theo hàng\n",
    "c = a + tmp_b_repeadt\n",
    "c"
   ],
   "outputs": [
    {
     "output_type": "execute_result",
     "data": {
      "text/plain": [
       "array([[2., 2., 2., 2., 2.],\n",
       "       [2., 2., 2., 2., 2.],\n",
       "       [2., 2., 2., 2., 2.]])"
      ]
     },
     "metadata": {},
     "execution_count": 5
    }
   ],
   "metadata": {}
  },
  {
   "cell_type": "code",
   "execution_count": 6,
   "source": [
    "# Một ví dụ khác\n",
    "a = np.ones((4, 1))\n",
    "b = np.ones(3,)\n",
    "\n",
    "\"\"\"\n",
    "    (3,) => (1, 3)\n",
    "    (4, 1) => (4, 3)\n",
    "    (1, 3) => (4, 3)\n",
    "\"\"\"\n",
    "c = a + b\n",
    "c.shape"
   ],
   "outputs": [
    {
     "output_type": "execute_result",
     "data": {
      "text/plain": [
       "(4, 3)"
      ]
     },
     "metadata": {},
     "execution_count": 6
    }
   ],
   "metadata": {}
  },
  {
   "cell_type": "code",
   "execution_count": null,
   "source": [
    "a = np.ones((3, 4))\n",
    "b = np.ones(3, )\n",
    "\n",
    "c = a + b\n",
    "\n",
    "\"\"\" \n",
    "    Báo lỗi: operands could not be broadcast together with shapes (3,4) (3,) \n",
    "    (3,) => (1, 3) nhớ 3 đang ở axis cuối thì vẫn ở cuối\n",
    "    Không thể lặp lại b để khớp với a được.\n",
    "\"\"\""
   ],
   "outputs": [],
   "metadata": {}
  },
  {
   "cell_type": "code",
   "execution_count": 10,
   "source": [
    "# Thêm ví dụ cho trường hợp có nhiều dimension\n",
    "a = np.ones((3, 4, 5))\n",
    "b = np.ones((5,)) \n",
    "# b = np.ones((2,))     # báo lỗi \n",
    "\n",
    "c = a + b\n",
    "c\n",
    "\n",
    "\"\"\"\n",
    "    (5,) => (1, 1, 5)   # 5 vẫn ở axis cuối nhé\n",
    "    (3, 4, 5)\n",
    "    lặp lại (1, 1, 5) => (3, 4, 5)\n",
    "\"\"\""
   ],
   "outputs": [
    {
     "output_type": "execute_result",
     "data": {
      "text/plain": [
       "array([[[2., 2., 2., 2., 2.],\n",
       "        [2., 2., 2., 2., 2.],\n",
       "        [2., 2., 2., 2., 2.],\n",
       "        [2., 2., 2., 2., 2.]],\n",
       "\n",
       "       [[2., 2., 2., 2., 2.],\n",
       "        [2., 2., 2., 2., 2.],\n",
       "        [2., 2., 2., 2., 2.],\n",
       "        [2., 2., 2., 2., 2.]],\n",
       "\n",
       "       [[2., 2., 2., 2., 2.],\n",
       "        [2., 2., 2., 2., 2.],\n",
       "        [2., 2., 2., 2., 2.],\n",
       "        [2., 2., 2., 2., 2.]]])"
      ]
     },
     "metadata": {},
     "execution_count": 10
    }
   ],
   "metadata": {}
  },
  {
   "cell_type": "code",
   "execution_count": 12,
   "source": [
    "# Thêm ví dụ dimensions nữa phức tạp hơn\n",
    "a = np.ones((3, 4, 5))\n",
    "b = np.ones((4, 1))\n",
    "c = a + b\n",
    "\n",
    "\"\"\"\n",
    "    (4, 1) => (1, 4, 1)     # thêm từ bên trái\n",
    "    (1, 4, 1) => (3, 4, 1) => (3, 4, 5)     # chưa rõ lặp lại theo chiều nào trước\n",
    "    đơn giản nhận thấy (4, 1) = > (4, 5) lặp lại cột 5 lần\n",
    "    (1, 4, 5) => (3, 4, 5) lặp lại cả ma trận 3 lần được theo depth\n",
    "\"\"\""
   ],
   "outputs": [],
   "metadata": {}
  },
  {
   "cell_type": "markdown",
   "source": [
    "## Setting array elements"
   ],
   "metadata": {}
  },
  {
   "cell_type": "code",
   "execution_count": 20,
   "source": [
    "a = np.arange(10)\n",
    "a.dtype"
   ],
   "outputs": [
    {
     "output_type": "execute_result",
     "data": {
      "text/plain": [
       "dtype('int64')"
      ]
     },
     "metadata": {},
     "execution_count": 20
    }
   ],
   "metadata": {}
  },
  {
   "cell_type": "code",
   "execution_count": 21,
   "source": [
    "# np array chứa các phần tử có cùng dữ liệu khi khởi tạo\n",
    "# Cần chú ý khi thêm các giá trị có kiểu dữ liệu khác nó sẽ chuyển về kiểu dữ liệu ban đầu\n",
    "a[5] = 7.8  # a ban đầu có dtype là int64\n",
    "a "
   ],
   "outputs": [
    {
     "output_type": "execute_result",
     "data": {
      "text/plain": [
       "array([0, 1, 2, 3, 4, 7, 6, 7, 8, 9])"
      ]
     },
     "metadata": {},
     "execution_count": 21
    }
   ],
   "metadata": {}
  },
  {
   "cell_type": "code",
   "execution_count": 22,
   "source": [
    "a.fill(-5.8)    # nó vẫn huyển về dtype='int64\n",
    "a"
   ],
   "outputs": [
    {
     "output_type": "execute_result",
     "data": {
      "text/plain": [
       "array([-5, -5, -5, -5, -5, -5, -5, -5, -5, -5])"
      ]
     },
     "metadata": {},
     "execution_count": 22
    }
   ],
   "metadata": {}
  },
  {
   "cell_type": "code",
   "execution_count": 23,
   "source": [
    "# đặt dtype ngay khi khởi tạo\n",
    "a = np.array([1,2, 3], dtype=np.float32)\n",
    "a.dtype"
   ],
   "outputs": [
    {
     "output_type": "execute_result",
     "data": {
      "text/plain": [
       "dtype('float32')"
      ]
     },
     "metadata": {},
     "execution_count": 23
    }
   ],
   "metadata": {}
  },
  {
   "cell_type": "code",
   "execution_count": 24,
   "source": [
    "a = np.array([1, 0, 0, 1], dtype=bool)  # kiểu boolean\n",
    "a.dtype\n",
    "a"
   ],
   "outputs": [
    {
     "output_type": "execute_result",
     "data": {
      "text/plain": [
       "array([ True, False, False,  True])"
      ]
     },
     "metadata": {},
     "execution_count": 24
    }
   ],
   "metadata": {}
  }
 ],
 "metadata": {
  "orig_nbformat": 4,
  "language_info": {
   "name": "python",
   "version": "3.8.5",
   "mimetype": "text/x-python",
   "codemirror_mode": {
    "name": "ipython",
    "version": 3
   },
   "pygments_lexer": "ipython3",
   "nbconvert_exporter": "python",
   "file_extension": ".py"
  },
  "kernelspec": {
   "name": "python3",
   "display_name": "Python 3.8.5 64-bit ('gurus': conda)"
  },
  "interpreter": {
   "hash": "7f4114923866b5f2004be050bf87b2424f3108ab8cde3e212847305bb977e1ea"
  }
 },
 "nbformat": 4,
 "nbformat_minor": 2
}